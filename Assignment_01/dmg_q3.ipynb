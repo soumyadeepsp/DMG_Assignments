{
 "cells": [
  {
   "cell_type": "code",
   "execution_count": 416,
   "metadata": {},
   "outputs": [],
   "source": [
    "# importing libraries \n",
    "import numpy as np \n",
    "import pandas as pd \n",
    "import matplotlib.pyplot as plt"
   ]
  },
  {
   "cell_type": "code",
   "execution_count": 417,
   "metadata": {},
   "outputs": [],
   "source": [
    "def months(m):\n",
    "    if (m=='Jan'):\n",
    "        return 1\n",
    "    if (m=='Feb'):\n",
    "        return 2\n",
    "    if (m=='Mar'):\n",
    "        return 3\n",
    "    if (m=='Apr'):\n",
    "        return 4\n",
    "    if (m=='May'):\n",
    "        return 5\n",
    "    if (m=='Jun'):\n",
    "        return 6\n",
    "    if (m=='Jul'):\n",
    "        return 7\n",
    "    if (m=='Aug'):\n",
    "        return 8\n",
    "    if (m=='Sep'):\n",
    "        return 9\n",
    "    if (m=='Oct'):\n",
    "        return 10\n",
    "    if (m=='Nov'):\n",
    "        return 11\n",
    "    if (m=='Dec'):\n",
    "        return 12"
   ]
  },
  {
   "cell_type": "code",
   "execution_count": 418,
   "metadata": {},
   "outputs": [
    {
     "name": "stdout",
     "output_type": "stream",
     "text": [
      "183\n",
      "183\n",
      "183\n",
      "183\n",
      "183\n",
      "183\n"
     ]
    }
   ],
   "source": [
    "import requests\n",
    "from datetime import date\n",
    "data = (requests.get(url = \"https://api.covid19india.org/states_daily.json\")).json()\n",
    "#print (data)\n",
    "data = data['states_daily']\n",
    "cx = []\n",
    "cy = []\n",
    "rx = []\n",
    "ry = []\n",
    "dx = []\n",
    "dy = []\n",
    "for i in data:\n",
    "    if (i['status']=='Confirmed'):\n",
    "        din = i['date']\n",
    "        day = int(din[0:2])\n",
    "        month = int(months(din[3:6]))\n",
    "        year = int('20'+din[7:9])\n",
    "        f_date = date(2020, 3, 14)\n",
    "        l_date = date(year, month, day)\n",
    "        delta = l_date - f_date\n",
    "        cx.append(delta.days)\n",
    "        cy.append(i['dl'])\n",
    "    elif (i['status']=='Recovered'):\n",
    "        din = i['date']\n",
    "        day = int(din[0:2])\n",
    "        month = int(months(din[3:6]))\n",
    "        year = int('20'+din[7:9])\n",
    "        f_date = date(2020, 3, 14)\n",
    "        l_date = date(year, month, day)\n",
    "        delta = l_date - f_date\n",
    "        rx.append(delta.days)\n",
    "        ry.append(i['dl'])\n",
    "    else:\n",
    "        din = i['date']\n",
    "        day = int(din[0:2])\n",
    "        month = int(months(din[3:6]))\n",
    "        year = int('20'+din[7:9])\n",
    "        f_date = date(2020, 3, 14)\n",
    "        l_date = date(year, month, day)\n",
    "        delta = l_date - f_date\n",
    "        dx.append(delta.days)\n",
    "        dy.append(i['dl'])\n",
    "print (len(cx))\n",
    "print (len(cy))\n",
    "print (len(rx))\n",
    "print (len(ry))\n",
    "print (len(dx))\n",
    "print (len(dy))"
   ]
  },
  {
   "cell_type": "code",
   "execution_count": 419,
   "metadata": {},
   "outputs": [
    {
     "name": "stdout",
     "output_type": "stream",
     "text": [
      "int64\n",
      "int64\n",
      "[  0   1   2   3   4   5   6   7   8   9  10  11  12  13  14  15  16  17\n",
      "  18  19  20  21  22  23  24  25  26  27  28  29  30  31  32  33  34  35\n",
      "  36  37  38  39  40  41  42  43  44  45  46  47  48  49  50  51  52  53\n",
      "  54  55  56  57  58  59  60  61  62  63  64  65  66  67  68  69  70  71\n",
      "  72  73  74  75  76  77  78  79  80  81  82  83  84  85  86  87  88  89\n",
      "  90  91  92  93  94  95  96  97  98  99 100 101 102 103 104 105 106 107\n",
      " 108 109 110 111 112 113 114 115 116 117 118 119 120 121 122 123 124 125\n",
      " 126 127 128 129 130 131 132 133 134 135 136 137 138 139 140 141 142 143\n",
      " 144 145 146 147 148 149 150 151 152 153 154 155 156 157 158 159 160 161\n",
      " 162 163 164 165 166 167 168 169 170 171 172 173 174 175 176 177 178 179\n",
      " 180 181 182]\n",
      "[   7    0    0    1    2    4    6    7    0    3    0    5    1    4\n",
      "    9   23   25   23   32  141   93   59   58   22   51   93   51  183\n",
      "  166   85  356   51   17   62   67  186  110   78   75   92  128  138\n",
      "  111  293  190  206  125   76  223  384  427  349  206  428  448  338\n",
      "  224  381  310  406  359  472  425  438  422  299  500  534  571  660\n",
      "  591  508  635  412  792 1024 1105 1163 1295  990 1298 1513 1359 1330\n",
      " 1320 1282 1007 1366 1501 1877 2137 2134 2224 1647 1859 2414 2877 3137\n",
      " 3630 3000 2909 3947 3788 3390 3460 2948 2889 2084 2199 2442 2373 2520\n",
      " 2505 2244 1379 2008 2033 2187 2089 1781 1573 1246 1606 1647 1652 1462\n",
      " 1475 1211  954 1349 1227 1041 1025 1142 1075  613 1056 1035 1093 1195\n",
      " 1118  961  805  674 1076 1299 1192 1404 1300  707 1257 1113  956 1192\n",
      " 1276  652  787 1374 1398 1215 1250 1412 1450 1061 1544 1693 1840 1808\n",
      " 1954 2024 1358 2312 2509 2737 2914 2973 3256 2077 3609 4039 4308 4266\n",
      " 4321]\n"
     ]
    }
   ],
   "source": [
    "cx = np.array(cx)\n",
    "cy = np.array(cy)\n",
    "cx = cx.astype('int64')\n",
    "cy = cy.astype('int64')\n",
    "print (cx.dtype)\n",
    "print (cy.dtype)\n",
    "print(cx)\n",
    "print(cy)"
   ]
  },
  {
   "cell_type": "code",
   "execution_count": 420,
   "metadata": {},
   "outputs": [],
   "source": [
    "#First we are plotting the data of confirmed cases in delhi"
   ]
  },
  {
   "cell_type": "code",
   "execution_count": 421,
   "metadata": {},
   "outputs": [],
   "source": [
    "x = cx\n",
    "y = cy"
   ]
  },
  {
   "cell_type": "code",
   "execution_count": 422,
   "metadata": {},
   "outputs": [
    {
     "data": {
      "image/png": "[encoded data removed]",
      "text/plain": [
       "<Figure size 432x288 with 1 Axes>"
      ]
     },
     "metadata": {
      "needs_background": "light"
     },
     "output_type": "display_data"
    }
   ],
   "source": [
    "plt.scatter(cx,cy, color='y')\n",
    "plt.show()"
   ]
  },
  {
   "cell_type": "code",
   "execution_count": 423,
   "metadata": {},
   "outputs": [],
   "source": [
    "#defining hypothesis \n",
    "def hypothesis(theta, x):\n",
    "    return theta[0] + theta[1]*x"
   ]
  },
  {
   "cell_type": "code",
   "execution_count": 424,
   "metadata": {},
   "outputs": [],
   "source": [
    "#defining error function\n",
    "def error(x,y,theta):\n",
    "    m = x.shape[0]\n",
    "    total_error = 0\n",
    "    for i in range(m):\n",
    "        total_error += (y[i] - hypothesis(theta,x[i]))**2\n",
    "    return 0.5*total_error"
   ]
  },
  {
   "cell_type": "code",
   "execution_count": 425,
   "metadata": {},
   "outputs": [],
   "source": [
    "# defining update rule \n",
    "def gradient(x,y,theta):\n",
    "    grad = np.array([0.0,0.0])\n",
    "    m = x.shape[0]\n",
    "    for i in range(m):\n",
    "        grad[0] += (hypothesis(theta,x[i]) - y[i])\n",
    "        grad[1] += (hypothesis(theta,x[i]) - y[i])*x[i]\n",
    "    return grad"
   ]
  },
  {
   "cell_type": "code",
   "execution_count": 426,
   "metadata": {},
   "outputs": [],
   "source": [
    "#applying gradient_descent\n",
    "def gradient_descent(x,y,learning_rate,maxIter):\n",
    "    \n",
    "    theta = np.array([0.0,0.0])\n",
    "    err = []\n",
    "    for i in range(maxIter):\n",
    "        grad = gradient(x,y,theta)\n",
    "        ce = error(x,y,theta)\n",
    "        theta[0] = theta[0] - learning_rate*grad[0]\n",
    "        theta[1] = theta[1] - learning_rate*grad[1]\n",
    "        err.append(ce)\n",
    "        \n",
    "    return theta,err"
   ]
  },
  {
   "cell_type": "code",
   "execution_count": 427,
   "metadata": {},
   "outputs": [
    {
     "name": "stdout",
     "output_type": "stream",
     "text": [
      "-0.3932437648064798 13.159378205986304\n"
     ]
    }
   ],
   "source": [
    "theta, err = gradient_descent(x,y,learning_rate=0.00000001,maxIter=10000)\n",
    "print(theta[0], theta[1])"
   ]
  },
  {
   "cell_type": "code",
   "execution_count": 428,
   "metadata": {},
   "outputs": [
    {
     "data": {
      "image/png": "[encoded data removed]",
      "text/plain": [
       "<Figure size 432x288 with 1 Axes>"
      ]
     },
     "metadata": {
      "needs_background": "light"
     },
     "output_type": "display_data"
    }
   ],
   "source": [
    "plt.scatter(x,y, color='g', label='data')\n",
    "plt.plot(x,hypothesis(theta,x), color='r', label='prediction')\n",
    "plt.legend()\n",
    "plt.show()"
   ]
  },
  {
   "cell_type": "code",
   "execution_count": 429,
   "metadata": {},
   "outputs": [],
   "source": [
    "#Second we are plotting the data of recovered cases in delhi"
   ]
  },
  {
   "cell_type": "code",
   "execution_count": 430,
   "metadata": {},
   "outputs": [
    {
     "name": "stdout",
     "output_type": "stream",
     "text": [
      "int64\n",
      "int64\n",
      "[  0   1   2   3   4   5   6   7   8   9  10  11  12  13  14  15  16  17\n",
      "  18  19  20  21  22  23  24  25  26  27  28  29  30  31  32  33  34  35\n",
      "  36  37  38  39  40  41  42  43  44  45  46  47  48  49  50  51  52  53\n",
      "  54  55  56  57  58  59  60  61  62  63  64  65  66  67  68  69  70  71\n",
      "  72  73  74  75  76  77  78  79  80  81  82  83  84  85  86  87  88  89\n",
      "  90  91  92  93  94  95  96  97  98  99 100 101 102 103 104 105 106 107\n",
      " 108 109 110 111 112 113 114 115 116 117 118 119 120 121 122 123 124 125\n",
      " 126 127 128 129 130 131 132 133 134 135 136 137 138 139 140 141 142 143\n",
      " 144 145 146 147 148 149 150 151 152 153 154 155 156 157 158 159 160 161\n",
      " 162 163 164 165 166 167 168 169 170 171 172 173 174 175 176 177 178 179\n",
      " 180 181 182]\n",
      "[   1    1    0    0    0    1    2    0    0    0    1    0    0    0\n",
      "    0    0    0    0    0    2    0    8    0    0    4    1    4    2\n",
      "    0    1    3    0   10   11   20  135   83  141  180  113   84   49\n",
      "   12    8    0  201   14    2   73   89  106   69   37   74  389   89\n",
      "    0   49   60  383  346  187  473  408  276  283  265  442  375  330\n",
      "  370  273  231  183  310  231  351  229  403  268  497  299  356  417\n",
      "  349  335  358  504  384  486  667 1547  878  604   73  957 3884 2228\n",
      " 7725 1719 3589 2711 2124 3328 2326 2210 3306 3628 2113 1644 3015 2617\n",
      " 2632 3083  749 2129 3982 4027 2468 2998 2276 1344 1924 2463 1994 1608\n",
      " 1973 1860 1784 1200 1532 1415 1866 2137 1807 1497 1135 1126 1091 1206\n",
      " 1201 1186  937  972  890 1008 1108 1130 1225 1070  727 1021  913  790\n",
      " 1143 1310  740 1146 1320 1059 1082 1230 1250 1200 1155 1154 1130 1446\n",
      " 1449 1249 1507 1050 1858 1528 1751 1920 2188 2411 1756 2623 2637 2754\n",
      " 3141]\n"
     ]
    }
   ],
   "source": [
    "rx = np.array(rx)\n",
    "ry = np.array(ry)\n",
    "rx = rx.astype('int64')\n",
    "ry = ry.astype('int64')\n",
    "print (rx.dtype)\n",
    "print (ry.dtype)\n",
    "print(rx)\n",
    "print(ry)"
   ]
  },
  {
   "cell_type": "code",
   "execution_count": 431,
   "metadata": {},
   "outputs": [],
   "source": [
    "x = rx\n",
    "y = ry"
   ]
  },
  {
   "cell_type": "code",
   "execution_count": 432,
   "metadata": {},
   "outputs": [
    {
     "data": {
      "image/png": "[encoded data removed]",
      "text/plain": [
       "<Figure size 432x288 with 1 Axes>"
      ]
     },
     "metadata": {
      "needs_background": "light"
     },
     "output_type": "display_data"
    }
   ],
   "source": [
    "plt.scatter(x,y, color='y')\n",
    "plt.show()"
   ]
  },
  {
   "cell_type": "code",
   "execution_count": 433,
   "metadata": {},
   "outputs": [
    {
     "name": "stdout",
     "output_type": "stream",
     "text": [
      "-0.7291102638039972 11.38749745805371\n"
     ]
    }
   ],
   "source": [
    "theta, err = gradient_descent(x,y,learning_rate=0.00000001,maxIter=10000)\n",
    "print(theta[0], theta[1])"
   ]
  },
  {
   "cell_type": "code",
   "execution_count": 434,
   "metadata": {},
   "outputs": [
    {
     "data": {
      "image/png": "[encoded data removed]",
      "text/plain": [
       "<Figure size 432x288 with 1 Axes>"
      ]
     },
     "metadata": {
      "needs_background": "light"
     },
     "output_type": "display_data"
    }
   ],
   "source": [
    "plt.scatter(x,y, color='g', label='data')\n",
    "plt.plot(x,hypothesis(theta,x), color='r', label='prediction')\n",
    "plt.legend()\n",
    "plt.show()"
   ]
  },
  {
   "cell_type": "code",
   "execution_count": 435,
   "metadata": {},
   "outputs": [],
   "source": [
    "#Second we are plotting the data of deceased cases in delhi"
   ]
  },
  {
   "cell_type": "code",
   "execution_count": 436,
   "metadata": {},
   "outputs": [
    {
     "name": "stdout",
     "output_type": "stream",
     "text": [
      "int64\n",
      "int64\n",
      "[  0   1   2   3   4   5   6   7   8   9  10  11  12  13  14  15  16  17\n",
      "  18  19  20  21  22  23  24  25  26  27  28  29  30  31  32  33  34  35\n",
      "  36  37  38  39  40  41  42  43  44  45  46  47  48  49  50  51  52  53\n",
      "  54  55  56  57  58  59  60  61  62  63  64  65  66  67  68  69  70  71\n",
      "  72  73  74  75  76  77  78  79  80  81  82  83  84  85  86  87  88  89\n",
      "  90  91  92  93  94  95  96  97  98  99 100 101 102 103 104 105 106 107\n",
      " 108 109 110 111 112 113 114 115 116 117 118 119 120 121 122 123 124 125\n",
      " 126 127 128 129 130 131 132 133 134 135 136 137 138 139 140 141 142 143\n",
      " 144 145 146 147 148 149 150 151 152 153 154 155 156 157 158 159 160 161\n",
      " 162 163 164 165 166 167 168 169 170 171 172 173 174 175 176 177 178 179\n",
      " 180 181 182]\n",
      "[  1   0   0   0   0   0   0   0   0   0   0   0   0   0   0   1   0   0\n",
      "   0   2   2   0   1   0   2   0   3   2   5   5   4   2   2   6   4   1\n",
      "   2   2   0   1   2   3   1   0   0   0   2   3   2   3   0   0   0   1\n",
      "   1   2   0   5   0  13  20   9   8   6  19  12   6  10  18  14  23  30\n",
      "  15  12  15  13  82  18  57  50  33  59  44  49  53  51  62  31  79 101\n",
      " 129  57  56  73 437  67  65  66  77  63  58  68  64  64  63  66  65  57\n",
      "  62  61  61  59  81  63  48  50  48  45  42  34  37  40  35  41  58  26\n",
      "  26  31  35  27  29  26  32  29  21  26  28  26  29  27  26  15  17  12\n",
      "  11  15  23  16  13  20   8  14  14  11  10   8  18  12   9  22  13  14\n",
      "  16  13  17  17  22  20  15  22  18  18  19  19  13  25  29  32  19  20\n",
      "  28  21  28]\n"
     ]
    }
   ],
   "source": [
    "dx = np.array(dx)\n",
    "dy = np.array(dy)\n",
    "dx = dx.astype('int64')\n",
    "dy = dy.astype('int64')\n",
    "print (dx.dtype)\n",
    "print (dy.dtype)\n",
    "print(dx)\n",
    "print(dy)"
   ]
  },
  {
   "cell_type": "code",
   "execution_count": 437,
   "metadata": {},
   "outputs": [],
   "source": [
    "x = dx\n",
    "y = dy"
   ]
  },
  {
   "cell_type": "code",
   "execution_count": 438,
   "metadata": {},
   "outputs": [
    {
     "data": {
      "image/png": "[encoded data removed]",
      "text/plain": [
       "<Figure size 432x288 with 1 Axes>"
      ]
     },
     "metadata": {
      "needs_background": "light"
     },
     "output_type": "display_data"
    }
   ],
   "source": [
    "plt.scatter(x,y, color='y')\n",
    "plt.show()"
   ]
  },
  {
   "cell_type": "code",
   "execution_count": 439,
   "metadata": {},
   "outputs": [
    {
     "name": "stdout",
     "output_type": "stream",
     "text": [
      "0.050042916113881494 0.2538530970257131\n"
     ]
    }
   ],
   "source": [
    "theta, err = gradient_descent(x,y,learning_rate=0.00000001,maxIter=10000)\n",
    "print(theta[0], theta[1])"
   ]
  },
  {
   "cell_type": "code",
   "execution_count": 440,
   "metadata": {},
   "outputs": [
    {
     "data": {
      "image/png": "[encoded data removed]",
      "text/plain": [
       "<Figure size 432x288 with 1 Axes>"
      ]
     },
     "metadata": {
      "needs_background": "light"
     },
     "output_type": "display_data"
    }
   ],
   "source": [
    "plt.scatter(x,y, color='g', label='data')\n",
    "plt.plot(x,hypothesis(theta,x), color='r', label='prediction')\n",
    "plt.legend()\n",
    "plt.show()"
   ]
  }
 ],
 "metadata": {
  "kernelspec": {
   "display_name": "Python 3",
   "language": "python",
   "name": "python3"
  },
  "language_info": {
   "codemirror_mode": {
    "name": "ipython",
    "version": 3
   },
   "file_extension": ".py",
   "mimetype": "text/x-python",
   "name": "python",
   "nbconvert_exporter": "python",
   "pygments_lexer": "ipython3",
   "version": "3.7.4"
  }
 },
 "nbformat": 4,
 "nbformat_minor": 2
}
