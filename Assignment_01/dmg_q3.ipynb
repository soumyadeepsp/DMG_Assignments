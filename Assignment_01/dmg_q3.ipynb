{
 "cells": [
  {
   "cell_type": "code",
   "execution_count": 61,
   "metadata": {},
   "outputs": [],
   "source": [
    "# importing libraries \n",
    "import numpy as np \n",
    "import pandas as pd \n",
    "import matplotlib.pyplot as plt"
   ]
  },
  {
   "cell_type": "code",
   "execution_count": 62,
   "metadata": {},
   "outputs": [],
   "source": [
    "def months(m):\n",
    "    if (m=='Jan'):\n",
    "        return 1\n",
    "    if (m=='Feb'):\n",
    "        return 2\n",
    "    if (m=='Mar'):\n",
    "        return 3\n",
    "    if (m=='Apr'):\n",
    "        return 4\n",
    "    if (m=='May'):\n",
    "        return 5\n",
    "    if (m=='Jun'):\n",
    "        return 6\n",
    "    if (m=='Jul'):\n",
    "        return 7\n",
    "    if (m=='Aug'):\n",
    "        return 8\n",
    "    if (m=='Sep'):\n",
    "        return 9\n",
    "    if (m=='Oct'):\n",
    "        return 10\n",
    "    if (m=='Nov'):\n",
    "        return 11\n",
    "    if (m=='Dec'):\n",
    "        return 12"
   ]
  },
  {
   "cell_type": "code",
   "execution_count": 63,
   "metadata": {},
   "outputs": [
    {
     "name": "stdout",
     "output_type": "stream",
     "text": [
      "191\n",
      "191\n",
      "191\n",
      "191\n",
      "191\n",
      "191\n"
     ]
    }
   ],
   "source": [
    "import requests\n",
    "from datetime import date\n",
    "data = (requests.get(url = \"https://api.covid19india.org/states_daily.json\")).json()\n",
    "#print (data)\n",
    "data = data['states_daily']\n",
    "cx = []\n",
    "cy = []\n",
    "rx = []\n",
    "ry = []\n",
    "dx = []\n",
    "dy = []\n",
    "for i in data:\n",
    "    if (i['status']=='Confirmed'):\n",
    "        din = i['date']\n",
    "        day = int(din[0:2])\n",
    "        month = int(months(din[3:6]))\n",
    "        year = int('20'+din[7:9])\n",
    "        f_date = date(2020, 3, 14)\n",
    "        l_date = date(year, month, day)\n",
    "        delta = l_date - f_date\n",
    "        cx.append(delta.days)\n",
    "        cy.append(i['dl'])\n",
    "    elif (i['status']=='Recovered'):\n",
    "        din = i['date']\n",
    "        day = int(din[0:2])\n",
    "        month = int(months(din[3:6]))\n",
    "        year = int('20'+din[7:9])\n",
    "        f_date = date(2020, 3, 14)\n",
    "        l_date = date(year, month, day)\n",
    "        delta = l_date - f_date\n",
    "        rx.append(delta.days)\n",
    "        ry.append(i['dl'])\n",
    "    else:\n",
    "        din = i['date']\n",
    "        day = int(din[0:2])\n",
    "        month = int(months(din[3:6]))\n",
    "        year = int('20'+din[7:9])\n",
    "        f_date = date(2020, 3, 14)\n",
    "        l_date = date(year, month, day)\n",
    "        delta = l_date - f_date\n",
    "        dx.append(delta.days)\n",
    "        dy.append(i['dl'])\n",
    "# print (len(cx))\n",
    "# print (len(cy))\n",
    "# print (len(rx))\n",
    "# print (len(ry))\n",
    "# print (len(dx))\n",
    "# print (len(dy))"
   ]
  },
  {
   "cell_type": "code",
   "execution_count": 64,
   "metadata": {},
   "outputs": [],
   "source": [
    "cx = np.array(cx)\n",
    "cy = np.array(cy)\n",
    "cx = cx.astype('int64')\n",
    "cy = cy.astype('int64')\n",
    "# print (cx.dtype)\n",
    "# print (cy.dtype)\n",
    "# print(cx)\n",
    "# print(cy)"
   ]
  },
  {
   "cell_type": "code",
   "execution_count": 65,
   "metadata": {},
   "outputs": [],
   "source": [
    "#First we are plotting the data of confirmed cases in delhi"
   ]
  },
  {
   "cell_type": "code",
   "execution_count": 66,
   "metadata": {},
   "outputs": [],
   "source": [
    "x = cx\n",
    "y = cy"
   ]
  },
  {
   "cell_type": "code",
   "execution_count": 67,
   "metadata": {},
   "outputs": [],
   "source": [
    "# plt.scatter(cx,cy, color='y')\n",
    "# plt.show()"
   ]
  },
  {
   "cell_type": "code",
   "execution_count": 68,
   "metadata": {},
   "outputs": [],
   "source": [
    "#defining hypothesis \n",
    "def hypothesis(theta, x):\n",
    "    return theta[0] + theta[1]*x"
   ]
  },
  {
   "cell_type": "code",
   "execution_count": 69,
   "metadata": {},
   "outputs": [],
   "source": [
    "# defining update rule \n",
    "def gradient(x,y,theta):\n",
    "    grad = np.array([0.0,0.0])\n",
    "    m = x.shape[0]\n",
    "    for i in range(m):\n",
    "        grad[0] += (hypothesis(theta,x[i]) - y[i])\n",
    "        grad[1] += (hypothesis(theta,x[i]) - y[i])*x[i]\n",
    "    return grad"
   ]
  },
  {
   "cell_type": "code",
   "execution_count": 70,
   "metadata": {},
   "outputs": [],
   "source": [
    "#applying gradient_descent\n",
    "def gradient_descent(x,y,learning_rate,maxIter):\n",
    "    theta = np.array([0.0,0.0])\n",
    "    for i in range(maxIter):\n",
    "        grad = gradient(x,y,theta)\n",
    "        theta[0] = theta[0] - learning_rate*grad[0]\n",
    "        theta[1] = theta[1] - learning_rate*grad[1]        \n",
    "    return theta"
   ]
  },
  {
   "cell_type": "code",
   "execution_count": 71,
   "metadata": {},
   "outputs": [
    {
     "name": "stdout",
     "output_type": "stream",
     "text": [
      "-0.8113565072960656 13.901319309143897\n"
     ]
    }
   ],
   "source": [
    "theta = gradient_descent(x,y,learning_rate=0.00000001,maxIter=10000)\n",
    "print(theta[0], theta[1])"
   ]
  },
  {
   "cell_type": "code",
   "execution_count": 72,
   "metadata": {},
   "outputs": [
    {
     "data": {
      "image/png": "[encoded data removed]",
      "text/plain": [
       "<Figure size 432x288 with 1 Axes>"
      ]
     },
     "metadata": {
      "needs_background": "light"
     },
     "output_type": "display_data"
    }
   ],
   "source": [
    "plt.scatter(x,y, color='g', label='data')\n",
    "plt.plot(x,hypothesis(theta,x), color='r', label='prediction')\n",
    "plt.legend()\n",
    "plt.show()"
   ]
  },
  {
   "cell_type": "code",
   "execution_count": 73,
   "metadata": {},
   "outputs": [],
   "source": [
    "#Second we are plotting the data of recovered cases in delhi"
   ]
  },
  {
   "cell_type": "code",
   "execution_count": 74,
   "metadata": {},
   "outputs": [],
   "source": [
    "rx = np.array(rx)\n",
    "ry = np.array(ry)\n",
    "rx = rx.astype('int64')\n",
    "ry = ry.astype('int64')\n",
    "# print (rx.dtype)\n",
    "# print (ry.dtype)\n",
    "# print(rx)\n",
    "# print(ry)"
   ]
  },
  {
   "cell_type": "code",
   "execution_count": 75,
   "metadata": {},
   "outputs": [],
   "source": [
    "x = rx\n",
    "y = ry"
   ]
  },
  {
   "cell_type": "code",
   "execution_count": 76,
   "metadata": {},
   "outputs": [],
   "source": [
    "# plt.scatter(x,y, color='y')\n",
    "# plt.show()"
   ]
  },
  {
   "cell_type": "code",
   "execution_count": 77,
   "metadata": {},
   "outputs": [
    {
     "name": "stdout",
     "output_type": "stream",
     "text": [
      "-1.0765434133366463 12.00205210306684\n"
     ]
    }
   ],
   "source": [
    "theta = gradient_descent(x,y,learning_rate=0.00000001,maxIter=10000)\n",
    "print(theta[0], theta[1])"
   ]
  },
  {
   "cell_type": "code",
   "execution_count": 78,
   "metadata": {},
   "outputs": [
    {
     "data": {
      "image/png": "[encoded data removed]",
      "text/plain": [
       "<Figure size 432x288 with 1 Axes>"
      ]
     },
     "metadata": {
      "needs_background": "light"
     },
     "output_type": "display_data"
    }
   ],
   "source": [
    "plt.scatter(x,y, color='g', label='data')\n",
    "plt.plot(x,hypothesis(theta,x), color='r', label='prediction')\n",
    "plt.legend()\n",
    "plt.show()"
   ]
  },
  {
   "cell_type": "code",
   "execution_count": 79,
   "metadata": {},
   "outputs": [],
   "source": [
    "#Second we are plotting the data of deceased cases in delhi"
   ]
  },
  {
   "cell_type": "code",
   "execution_count": 80,
   "metadata": {},
   "outputs": [],
   "source": [
    "dx = np.array(dx)\n",
    "dy = np.array(dy)\n",
    "dx = dx.astype('int64')\n",
    "dy = dy.astype('int64')\n",
    "# print (dx.dtype)\n",
    "# print (dy.dtype)\n",
    "# print(dx)\n",
    "# print(dy)"
   ]
  },
  {
   "cell_type": "code",
   "execution_count": 81,
   "metadata": {},
   "outputs": [],
   "source": [
    "x = dx\n",
    "y = dy"
   ]
  },
  {
   "cell_type": "code",
   "execution_count": 82,
   "metadata": {},
   "outputs": [],
   "source": [
    "# plt.scatter(x,y, color='y')\n",
    "# plt.show()"
   ]
  },
  {
   "cell_type": "code",
   "execution_count": 83,
   "metadata": {},
   "outputs": [
    {
     "name": "stdout",
     "output_type": "stream",
     "text": [
      "0.05690559171730575 0.24168987285330937\n"
     ]
    }
   ],
   "source": [
    "theta = gradient_descent(x,y,learning_rate=0.00000001,maxIter=10000)\n",
    "print(theta[0], theta[1])"
   ]
  },
  {
   "cell_type": "code",
   "execution_count": 84,
   "metadata": {},
   "outputs": [
    {
     "data": {
      "image/png": "[encoded data removed]",
      "text/plain": [
       "<Figure size 432x288 with 1 Axes>"
      ]
     },
     "metadata": {
      "needs_background": "light"
     },
     "output_type": "display_data"
    }
   ],
   "source": [
    "plt.scatter(x,y, color='g', label='data')\n",
    "plt.plot(x,hypothesis(theta,x), color='r', label='prediction')\n",
    "plt.legend()\n",
    "plt.show()"
   ]
  }
 ],
 "metadata": {
  "kernelspec": {
   "display_name": "Python 3",
   "language": "python",
   "name": "python3"
  },
  "language_info": {
   "codemirror_mode": {
    "name": "ipython",
    "version": 3
   },
   "file_extension": ".py",
   "mimetype": "text/x-python",
   "name": "python",
   "nbconvert_exporter": "python",
   "pygments_lexer": "ipython3",
   "version": "3.7.4"
  }
 },
 "nbformat": 4,
 "nbformat_minor": 2
}
