{
 "cells": [
  {
   "cell_type": "code",
   "execution_count": 6,
   "metadata": {},
   "outputs": [],
   "source": [
    "# importing libraries \n",
    "import numpy as np \n",
    "import pandas as pd \n",
    "import matplotlib.pyplot as plt\n",
    "import requests\n",
    "import json\n",
    "from datetime import date"
   ]
  },
  {
   "cell_type": "code",
   "execution_count": 7,
   "metadata": {},
   "outputs": [],
   "source": [
    "start_date = \"2020-03-14\" #take input\n",
    "end_date = \"2020-09-05\" #take input\n",
    "json_file_path = \"data.json\" #take input"
   ]
  },
  {
   "cell_type": "code",
   "execution_count": 8,
   "metadata": {},
   "outputs": [],
   "source": [
    "def months(m):\n",
    "    if (m=='Jan'):\n",
    "        return 1\n",
    "    if (m=='Feb'):\n",
    "        return 2\n",
    "    if (m=='Mar'):\n",
    "        return 3\n",
    "    if (m=='Apr'):\n",
    "        return 4\n",
    "    if (m=='May'):\n",
    "        return 5\n",
    "    if (m=='Jun'):\n",
    "        return 6\n",
    "    if (m=='Jul'):\n",
    "        return 7\n",
    "    if (m=='Aug'):\n",
    "        return 8\n",
    "    if (m=='Sep'):\n",
    "        return 9\n",
    "    if (m=='Oct'):\n",
    "        return 10\n",
    "    if (m=='Nov'):\n",
    "        return 11\n",
    "    if (m=='Dec'):\n",
    "        return 12"
   ]
  },
  {
   "cell_type": "code",
   "execution_count": 58,
   "metadata": {},
   "outputs": [],
   "source": [
    "def Q2_1(json_file_path, start_date, end_date):\n",
    "    f = open(json_file_path,) \n",
    "    data = json.load(f)\n",
    "    data = data['states_daily']\n",
    "    confirmed_count_array = []\n",
    "    recovered_count_array = []\n",
    "    deceased_count_array = []\n",
    "    confirmed_count = 0\n",
    "    recovered_count = 0\n",
    "    deceased_count = 0\n",
    "    x_axis = []\n",
    "    c = 0\n",
    "    dates = []\n",
    "    for i in data:\n",
    "        if (i['status']=='Confirmed'):\n",
    "            d = i['date']\n",
    "            sd = date(int(start_date[0:4]), int(start_date[5:7]), int(start_date[8:10])) #start_date\n",
    "            ed = date(int(end_date[0:4]), int(end_date[5:7]), int(end_date[8:10])) #end_Date\n",
    "            cd = date(int('20'+d[7:9]), int(months(d[3:6])), int(d[0:2])) #current_date\n",
    "            if ((cd-sd).days>=0 and (cd-ed).days<=0):\n",
    "                for j in i:\n",
    "                    if (j!='status' and j!='date'):\n",
    "                        confirmed_count = confirmed_count + int(i[j])\n",
    "                confirmed_count_array.append(confirmed_count)\n",
    "                if (d not in dates):\n",
    "                    dates.append(d)\n",
    "                    x_axis.append(c)\n",
    "                    c = c+1\n",
    "        if (i['status']=='Recovered'):\n",
    "            d = i['date']\n",
    "            sd = date(int(start_date[0:4]), int(start_date[5:7]), int(start_date[8:10])) #start_date\n",
    "            ed = date(int(end_date[0:4]), int(end_date[5:7]), int(end_date[8:10])) #end_Date\n",
    "            cd = date(int('20'+d[7:9]), int(months(d[3:6])), int(d[0:2])) #current_date\n",
    "            if ((cd-sd).days>=0 and (cd-ed).days<=0):\n",
    "                for j in i:\n",
    "                    if (j!='status' and j!='date'):\n",
    "                        recovered_count = recovered_count + int(i[j])\n",
    "                recovered_count_array.append(recovered_count)\n",
    "                if (d not in dates):\n",
    "                    dates.append(d)\n",
    "                    x_axis.append(c)\n",
    "                    c = c+1\n",
    "        if (i['status']=='Deceased'):\n",
    "            d = i['date']\n",
    "            sd = date(int(start_date[0:4]), int(start_date[5:7]), int(start_date[8:10])) #start_date\n",
    "            ed = date(int(end_date[0:4]), int(end_date[5:7]), int(end_date[8:10])) #end_Date\n",
    "            cd = date(int('20'+d[7:9]), int(months(d[3:6])), int(d[0:2])) #current_date\n",
    "            if ((cd-sd).days>=0 and (cd-ed).days<=0):\n",
    "                for j in i:\n",
    "                    if (j!='status' and j!='date'):\n",
    "                        deceased_count = deceased_count + int(i[j])\n",
    "                deceased_count_array.append(deceased_count)\n",
    "                if (d not in dates):\n",
    "                    dates.append(d)\n",
    "                    x_axis.append(c)\n",
    "                    c = c+1\n",
    "    #print (confirmed_count_array)\n",
    "    #print (recovered_count_array)\n",
    "    #print (deceased_count_array)\n",
    "    #print (dates)\n",
    "    #print (x_axis)\n",
    "    plt.plot(x_axis, confirmed_count_array)\n",
    "    plt.plot(x_axis, recovered_count_array)\n",
    "    plt.plot(x_axis, deceased_count_array)\n",
    "    plt.show()"
   ]
  },
  {
   "cell_type": "code",
   "execution_count": 59,
   "metadata": {},
   "outputs": [
    {
     "data": {
      "image/png": "[encoded data removed]",
      "text/plain": [
       "<Figure size 432x288 with 1 Axes>"
      ]
     },
     "metadata": {
      "needs_background": "light"
     },
     "output_type": "display_data"
    }
   ],
   "source": [
    "Q2_1(json_file_path, start_date, end_date)"
   ]
  },
  {
   "cell_type": "code",
   "execution_count": 61,
   "metadata": {},
   "outputs": [],
   "source": [
    "def Q2_2(json_file_path, start_date, end_date):\n",
    "    f = open(json_file_path,) \n",
    "    data = json.load(f)\n",
    "    data = data['states_daily']\n",
    "    confirmed_count_array = []\n",
    "    recovered_count_array = []\n",
    "    deceased_count_array = []\n",
    "    confirmed_count = 0\n",
    "    recovered_count = 0\n",
    "    deceased_count = 0\n",
    "    x_axis = []\n",
    "    c = 0\n",
    "    dates = []\n",
    "    for i in data:\n",
    "        if (i['status']=='Confirmed'):\n",
    "            d = i['date']\n",
    "            sd = date(int(start_date[0:4]), int(start_date[5:7]), int(start_date[8:10])) #start_date\n",
    "            ed = date(int(end_date[0:4]), int(end_date[5:7]), int(end_date[8:10])) #end_Date\n",
    "            cd = date(int('20'+d[7:9]), int(months(d[3:6])), int(d[0:2])) #current_date\n",
    "            if ((cd-sd).days>=0 and (cd-ed).days<=0):\n",
    "                confirmed_count = confirmed_count + int(i['dl'])\n",
    "                confirmed_count_array.append(confirmed_count)\n",
    "                if (d not in dates):\n",
    "                    dates.append(d)\n",
    "                    x_axis.append(c)\n",
    "                    c = c+1\n",
    "        if (i['status']=='Recovered'):\n",
    "            d = i['date']\n",
    "            sd = date(int(start_date[0:4]), int(start_date[5:7]), int(start_date[8:10])) #start_date\n",
    "            ed = date(int(end_date[0:4]), int(end_date[5:7]), int(end_date[8:10])) #end_Date\n",
    "            cd = date(int('20'+d[7:9]), int(months(d[3:6])), int(d[0:2])) #current_date\n",
    "            if ((cd-sd).days>=0 and (cd-ed).days<=0):\n",
    "                recovered_count = recovered_count + int(i['dl'])\n",
    "                recovered_count_array.append(recovered_count)\n",
    "                if (d not in dates):\n",
    "                    dates.append(d)\n",
    "                    x_axis.append(c)\n",
    "                    c = c+1\n",
    "        if (i['status']=='Deceased'):\n",
    "            d = i['date']\n",
    "            sd = date(int(start_date[0:4]), int(start_date[5:7]), int(start_date[8:10])) #start_date\n",
    "            ed = date(int(end_date[0:4]), int(end_date[5:7]), int(end_date[8:10])) #end_Date\n",
    "            cd = date(int('20'+d[7:9]), int(months(d[3:6])), int(d[0:2])) #current_date\n",
    "            if ((cd-sd).days>=0 and (cd-ed).days<=0):\n",
    "                deceased_count = deceased_count + int(i['dl'])\n",
    "                deceased_count_array.append(deceased_count)\n",
    "                if (d not in dates):\n",
    "                    dates.append(d)\n",
    "                    x_axis.append(c)\n",
    "                    c = c+1\n",
    "    #print (confirmed_count_array)\n",
    "    #print (recovered_count_array)\n",
    "    #print (deceased_count_array)\n",
    "    #print (dates)\n",
    "    #print (x_axis)\n",
    "    plt.plot(x_axis, confirmed_count_array)\n",
    "    plt.plot(x_axis, recovered_count_array)\n",
    "    plt.plot(x_axis, deceased_count_array)\n",
    "    plt.show()"
   ]
  },
  {
   "cell_type": "code",
   "execution_count": 62,
   "metadata": {},
   "outputs": [
    {
     "data": {
      "image/png": "[encoded data removed]",
      "text/plain": [
       "<Figure size 432x288 with 1 Axes>"
      ]
     },
     "metadata": {
      "needs_background": "light"
     },
     "output_type": "display_data"
    }
   ],
   "source": [
    "Q2_2(json_file_path, start_date, end_date)"
   ]
  },
  {
   "cell_type": "code",
   "execution_count": 67,
   "metadata": {},
   "outputs": [],
   "source": [
    "def Q2_3(json_file_path, start_date, end_date):\n",
    "    f = open(json_file_path,) \n",
    "    data = json.load(f)\n",
    "    data = data['states_daily']\n",
    "    active = []\n",
    "    temp = 0\n",
    "    x_axis = []\n",
    "    c = 0\n",
    "    dates = []\n",
    "    for i in range(0,len(data),3):\n",
    "        d = data[i]['date']\n",
    "        sd = date(int(start_date[0:4]), int(start_date[5:7]), int(start_date[8:10])) #start_date\n",
    "        ed = date(int(end_date[0:4]), int(end_date[5:7]), int(end_date[8:10])) #end_Date\n",
    "        cd = date(int('20'+d[7:9]), int(months(d[3:6])), int(d[0:2])) #current_date\n",
    "        if ((cd-sd).days>=0 and (cd-ed).days<=0):\n",
    "            for j in data[i]:\n",
    "                if (j!='status' and j!='date'):\n",
    "                    temp = temp + int(data[i][j])\n",
    "                    temp = temp - int(data[i+1][j])\n",
    "                    temp = temp - int(data[i+2][j])\n",
    "            active.append(temp)\n",
    "            x_axis.append(c)\n",
    "            c = c+1\n",
    "    print (active)\n",
    "    print (x_axis)\n",
    "    print (len(active))\n",
    "    print (len(x_axis))\n",
    "    plt.plot(x_axis, active)\n",
    "    plt.show()"
   ]
  },
  {
   "cell_type": "code",
   "execution_count": 68,
   "metadata": {},
   "outputs": [
    {
     "name": "stdout",
     "output_type": "stream",
     "text": [
      "[140, 186, 214, 232, 306, 348, 458, 614, 742, 918, 1034, 1206, 1312, 1582, 1840, 2044, 2294, 2870, 3668, 4568, 5584, 6604, 7692, 8498, 9439, 10337, 11731, 13127, 14382, 15586, 17794, 19448, 20878, 22432, 23654, 25474, 27782, 29356, 30918, 32642, 34612, 36342, 39040, 40972, 42832, 45226, 47114, 49308, 52022, 55304, 59106, 64048, 67144, 71844, 75374, 79636, 82928, 87988, 91852, 94926, 98178, 102778, 105718, 107042, 111760, 115790, 121742, 126688, 132176, 138404, 146296, 153636, 160140, 164438, 171686, 179500, 171768, 179480, 186758, 194038, 202156, 213438, 223804, 232636, 241992, 252852, 259040, 267190, 276236, 285630, 292940, 300216, 307662, 305656, 309368, 321122, 326612, 337102, 340374, 351674, 356412, 365864, 372574, 380216, 395472, 406470, 421660, 430510, 440880, 454734, 457874, 473588, 490910, 506294, 519718, 531382, 542504, 554310, 568216, 582682, 603498, 623406, 640112, 662806, 686648, 719984, 746554, 780214, 804028, 825848, 851040, 879764, 910986, 935474, 968906, 991882, 1018230, 1055866, 1089384, 1129720, 1135510, 1158624, 1171848, 1170274, 1190522, 1212782, 1233046, 1257338, 1270598, 1280132, 1288044, 1304758, 1321476, 1336878, 1356714, 1356194, 1346686, 1353576, 1371280, 1382608, 1392024, 1412120, 1420134, 1405208, 1408520, 1446094, 1478376, 1500702, 1525810, 1561968, 1568998, 1599260, 1627406, 1658778, 1691858, 1724904]\n",
      "[0, 1, 2, 3, 4, 5, 6, 7, 8, 9, 10, 11, 12, 13, 14, 15, 16, 17, 18, 19, 20, 21, 22, 23, 24, 25, 26, 27, 28, 29, 30, 31, 32, 33, 34, 35, 36, 37, 38, 39, 40, 41, 42, 43, 44, 45, 46, 47, 48, 49, 50, 51, 52, 53, 54, 55, 56, 57, 58, 59, 60, 61, 62, 63, 64, 65, 66, 67, 68, 69, 70, 71, 72, 73, 74, 75, 76, 77, 78, 79, 80, 81, 82, 83, 84, 85, 86, 87, 88, 89, 90, 91, 92, 93, 94, 95, 96, 97, 98, 99, 100, 101, 102, 103, 104, 105, 106, 107, 108, 109, 110, 111, 112, 113, 114, 115, 116, 117, 118, 119, 120, 121, 122, 123, 124, 125, 126, 127, 128, 129, 130, 131, 132, 133, 134, 135, 136, 137, 138, 139, 140, 141, 142, 143, 144, 145, 146, 147, 148, 149, 150, 151, 152, 153, 154, 155, 156, 157, 158, 159, 160, 161, 162, 163, 164, 165, 166, 167, 168, 169, 170, 171, 172, 173, 174, 175]\n",
      "176\n",
      "176\n"
     ]
    },
    {
     "data": {
      "image/png": "[encoded data removed]",
      "text/plain": [
       "<Figure size 432x288 with 1 Axes>"
      ]
     },
     "metadata": {
      "needs_background": "light"
     },
     "output_type": "display_data"
    }
   ],
   "source": [
    "Q2_3(json_file_path, start_date, end_date)"
   ]
  },
  {
   "cell_type": "code",
   "execution_count": null,
   "metadata": {},
   "outputs": [],
   "source": []
  }
 ],
 "metadata": {
  "kernelspec": {
   "display_name": "Python 3",
   "language": "python",
   "name": "python3"
  },
  "language_info": {
   "codemirror_mode": {
    "name": "ipython",
    "version": 3
   },
   "file_extension": ".py",
   "mimetype": "text/x-python",
   "name": "python",
   "nbconvert_exporter": "python",
   "pygments_lexer": "ipython3",
   "version": "3.7.4"
  }
 },
 "nbformat": 4,
 "nbformat_minor": 2
}
