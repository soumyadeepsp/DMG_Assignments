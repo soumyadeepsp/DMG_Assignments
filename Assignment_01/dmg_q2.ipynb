{
 "cells": [
  {
   "cell_type": "code",
   "execution_count": 18,
   "metadata": {},
   "outputs": [],
   "source": [
    "# importing libraries \n",
    "import numpy as np \n",
    "import pandas as pd \n",
    "import matplotlib.pyplot as plt\n",
    "import requests\n",
    "import json\n",
    "from datetime import date"
   ]
  },
  {
   "cell_type": "code",
   "execution_count": 19,
   "metadata": {},
   "outputs": [],
   "source": [
    "start_date = \"2020-03-14\" #take input\n",
    "end_date = \"2020-09-05\" #take input\n",
    "json_file_path = \"data.json\" #take input"
   ]
  },
  {
   "cell_type": "code",
   "execution_count": 20,
   "metadata": {},
   "outputs": [],
   "source": [
    "def months(m):\n",
    "    if (m=='Jan'):\n",
    "        return 1\n",
    "    if (m=='Feb'):\n",
    "        return 2\n",
    "    if (m=='Mar'):\n",
    "        return 3\n",
    "    if (m=='Apr'):\n",
    "        return 4\n",
    "    if (m=='May'):\n",
    "        return 5\n",
    "    if (m=='Jun'):\n",
    "        return 6\n",
    "    if (m=='Jul'):\n",
    "        return 7\n",
    "    if (m=='Aug'):\n",
    "        return 8\n",
    "    if (m=='Sep'):\n",
    "        return 9\n",
    "    if (m=='Oct'):\n",
    "        return 10\n",
    "    if (m=='Nov'):\n",
    "        return 11\n",
    "    if (m=='Dec'):\n",
    "        return 12"
   ]
  },
  {
   "cell_type": "code",
   "execution_count": 21,
   "metadata": {},
   "outputs": [],
   "source": [
    "def Q2_1(json_file_path, start_date, end_date):\n",
    "    data = (requests.get(url = \"https://api.covid19india.org/states_daily.json\")).json()\n",
    "    #print (data)\n",
    "    data = data['states_daily']\n",
    "    confirmed_count_array = []\n",
    "    recovered_count_array = []\n",
    "    deceased_count_array = []\n",
    "    confirmed_count = 0\n",
    "    recovered_count = 0\n",
    "    deceased_count = 0\n",
    "    x_axis = []\n",
    "    c = 0\n",
    "    dates = []\n",
    "    for i in data:\n",
    "        if (i['status']=='Confirmed'):\n",
    "            d = i['date']\n",
    "            sd = date(int(start_date[0:4]), int(start_date[5:7]), int(start_date[8:10])) #start_date\n",
    "            ed = date(int(end_date[0:4]), int(end_date[5:7]), int(end_date[8:10])) #end_Date\n",
    "            cd = date(int('20'+d[7:9]), int(months(d[3:6])), int(d[0:2])) #current_date\n",
    "            if ((cd-sd).days>=0 and (cd-ed).days<=0):\n",
    "                for j in i:\n",
    "                    if (j!='status' and j!='date' and j!='tt'):\n",
    "                        confirmed_count = confirmed_count + int(i[j])\n",
    "                confirmed_count_array.append(confirmed_count)\n",
    "                if (d not in dates):\n",
    "                    dates.append(d)\n",
    "                    x_axis.append(c)\n",
    "                    c = c+1\n",
    "        if (i['status']=='Recovered'):\n",
    "            d = i['date']\n",
    "            sd = date(int(start_date[0:4]), int(start_date[5:7]), int(start_date[8:10])) #start_date\n",
    "            ed = date(int(end_date[0:4]), int(end_date[5:7]), int(end_date[8:10])) #end_Date\n",
    "            cd = date(int('20'+d[7:9]), int(months(d[3:6])), int(d[0:2])) #current_date\n",
    "            if ((cd-sd).days>=0 and (cd-ed).days<=0):\n",
    "                for j in i:\n",
    "                    if (j!='status' and j!='date' and j!='tt'):\n",
    "                        recovered_count = recovered_count + int(i[j])\n",
    "                recovered_count_array.append(recovered_count)\n",
    "                if (d not in dates):\n",
    "                    dates.append(d)\n",
    "                    x_axis.append(c)\n",
    "                    c = c+1\n",
    "        if (i['status']=='Deceased'):\n",
    "            d = i['date']\n",
    "            sd = date(int(start_date[0:4]), int(start_date[5:7]), int(start_date[8:10])) #start_date\n",
    "            ed = date(int(end_date[0:4]), int(end_date[5:7]), int(end_date[8:10])) #end_Date\n",
    "            cd = date(int('20'+d[7:9]), int(months(d[3:6])), int(d[0:2])) #current_date\n",
    "            if ((cd-sd).days>=0 and (cd-ed).days<=0):\n",
    "                for j in i:\n",
    "                    if (j!='status' and j!='date' and j!='tt'):\n",
    "                        deceased_count = deceased_count + int(i[j])\n",
    "                deceased_count_array.append(deceased_count)\n",
    "                if (d not in dates):\n",
    "                    dates.append(d)\n",
    "                    x_axis.append(c)\n",
    "                    c = c+1\n",
    "    #print (confirmed_count_array)\n",
    "    #print (recovered_count_array)\n",
    "    #print (deceased_count_array)\n",
    "    #print (dates)\n",
    "    #print (x_axis)\n",
    "    plt.plot(x_axis, confirmed_count_array)\n",
    "    plt.plot(x_axis, recovered_count_array)\n",
    "    plt.plot(x_axis, deceased_count_array)\n",
    "    plt.show()"
   ]
  },
  {
   "cell_type": "code",
   "execution_count": 22,
   "metadata": {},
   "outputs": [
    {
     "data": {
      "image/png": "[encoded data removed]",
      "text/plain": [
       "<Figure size 432x288 with 1 Axes>"
      ]
     },
     "metadata": {
      "needs_background": "light"
     },
     "output_type": "display_data"
    }
   ],
   "source": [
    "Q2_1(json_file_path, start_date, end_date)"
   ]
  },
  {
   "cell_type": "code",
   "execution_count": 23,
   "metadata": {},
   "outputs": [],
   "source": [
    "def Q2_2(json_file_path, start_date, end_date):\n",
    "    data = (requests.get(url = \"https://api.covid19india.org/states_daily.json\")).json()\n",
    "    #print (data)\n",
    "    data = data['states_daily']\n",
    "    confirmed_count_array = []\n",
    "    recovered_count_array = []\n",
    "    deceased_count_array = []\n",
    "    confirmed_count = 0\n",
    "    recovered_count = 0\n",
    "    deceased_count = 0\n",
    "    x_axis = []\n",
    "    c = 0\n",
    "    dates = []\n",
    "    for i in data:\n",
    "        if (i['status']=='Confirmed'):\n",
    "            d = i['date']\n",
    "            sd = date(int(start_date[0:4]), int(start_date[5:7]), int(start_date[8:10])) #start_date\n",
    "            ed = date(int(end_date[0:4]), int(end_date[5:7]), int(end_date[8:10])) #end_Date\n",
    "            cd = date(int('20'+d[7:9]), int(months(d[3:6])), int(d[0:2])) #current_date\n",
    "            if ((cd-sd).days>=0 and (cd-ed).days<=0):\n",
    "                confirmed_count = confirmed_count + int(i['dl'])\n",
    "                confirmed_count_array.append(confirmed_count)\n",
    "                if (d not in dates):\n",
    "                    dates.append(d)\n",
    "                    x_axis.append(c)\n",
    "                    c = c+1\n",
    "        if (i['status']=='Recovered'):\n",
    "            d = i['date']\n",
    "            sd = date(int(start_date[0:4]), int(start_date[5:7]), int(start_date[8:10])) #start_date\n",
    "            ed = date(int(end_date[0:4]), int(end_date[5:7]), int(end_date[8:10])) #end_Date\n",
    "            cd = date(int('20'+d[7:9]), int(months(d[3:6])), int(d[0:2])) #current_date\n",
    "            if ((cd-sd).days>=0 and (cd-ed).days<=0):\n",
    "                recovered_count = recovered_count + int(i['dl'])\n",
    "                recovered_count_array.append(recovered_count)\n",
    "                if (d not in dates):\n",
    "                    dates.append(d)\n",
    "                    x_axis.append(c)\n",
    "                    c = c+1\n",
    "        if (i['status']=='Deceased'):\n",
    "            d = i['date']\n",
    "            sd = date(int(start_date[0:4]), int(start_date[5:7]), int(start_date[8:10])) #start_date\n",
    "            ed = date(int(end_date[0:4]), int(end_date[5:7]), int(end_date[8:10])) #end_Date\n",
    "            cd = date(int('20'+d[7:9]), int(months(d[3:6])), int(d[0:2])) #current_date\n",
    "            if ((cd-sd).days>=0 and (cd-ed).days<=0):\n",
    "                deceased_count = deceased_count + int(i['dl'])\n",
    "                deceased_count_array.append(deceased_count)\n",
    "                if (d not in dates):\n",
    "                    dates.append(d)\n",
    "                    x_axis.append(c)\n",
    "                    c = c+1\n",
    "    #print (confirmed_count_array)\n",
    "    #print (recovered_count_array)\n",
    "    #print (deceased_count_array)\n",
    "    #print (dates)\n",
    "    #print (x_axis)\n",
    "    plt.plot(x_axis, confirmed_count_array)\n",
    "    plt.plot(x_axis, recovered_count_array)\n",
    "    plt.plot(x_axis, deceased_count_array)\n",
    "    plt.show()"
   ]
  },
  {
   "cell_type": "code",
   "execution_count": 24,
   "metadata": {},
   "outputs": [
    {
     "data": {
      "image/png": "[encoded data removed]",
      "text/plain": [
       "<Figure size 432x288 with 1 Axes>"
      ]
     },
     "metadata": {
      "needs_background": "light"
     },
     "output_type": "display_data"
    }
   ],
   "source": [
    "Q2_2(json_file_path, start_date, end_date)"
   ]
  },
  {
   "cell_type": "code",
   "execution_count": 25,
   "metadata": {},
   "outputs": [],
   "source": [
    "def Q2_3(json_file_path, start_date, end_date):\n",
    "    data = (requests.get(url = \"https://api.covid19india.org/states_daily.json\")).json()\n",
    "    #print (data)\n",
    "    data = data['states_daily']\n",
    "    active = []\n",
    "    temp = 0\n",
    "    x_axis = []\n",
    "    c = 0\n",
    "    dates = []\n",
    "    for i in range(0,len(data),3):\n",
    "        d = data[i]['date']\n",
    "        sd = date(int(start_date[0:4]), int(start_date[5:7]), int(start_date[8:10])) #start_date\n",
    "        ed = date(int(end_date[0:4]), int(end_date[5:7]), int(end_date[8:10])) #end_Date\n",
    "        cd = date(int('20'+d[7:9]), int(months(d[3:6])), int(d[0:2])) #current_date\n",
    "        if ((cd-sd).days>=0 and (cd-ed).days<=0):\n",
    "            for j in data[i]:\n",
    "                if (j!='status' and j!='date' and j!='tt'):\n",
    "                    temp = temp + int(data[i][j])\n",
    "                    temp = temp - int(data[i+1][j])\n",
    "                    temp = temp - int(data[i+2][j])\n",
    "            active.append(temp)\n",
    "            x_axis.append(c)\n",
    "            c = c+1\n",
    "#     print (active)\n",
    "#     print (x_axis)\n",
    "#     print (len(active))\n",
    "#     print (len(x_axis))\n",
    "    plt.plot(x_axis, active)\n",
    "    plt.show()"
   ]
  },
  {
   "cell_type": "code",
   "execution_count": 26,
   "metadata": {},
   "outputs": [
    {
     "data": {
      "image/png": "[encoded data removed]",
      "text/plain": [
       "<Figure size 432x288 with 1 Axes>"
      ]
     },
     "metadata": {
      "needs_background": "light"
     },
     "output_type": "display_data"
    }
   ],
   "source": [
    "Q2_3(json_file_path, start_date, end_date)"
   ]
  },
  {
   "cell_type": "code",
   "execution_count": null,
   "metadata": {},
   "outputs": [],
   "source": []
  }
 ],
 "metadata": {
  "kernelspec": {
   "display_name": "Python 3",
   "language": "python",
   "name": "python3"
  },
  "language_info": {
   "codemirror_mode": {
    "name": "ipython",
    "version": 3
   },
   "file_extension": ".py",
   "mimetype": "text/x-python",
   "name": "python",
   "nbconvert_exporter": "python",
   "pygments_lexer": "ipython3",
   "version": "3.7.4"
  }
 },
 "nbformat": 4,
 "nbformat_minor": 2
}
