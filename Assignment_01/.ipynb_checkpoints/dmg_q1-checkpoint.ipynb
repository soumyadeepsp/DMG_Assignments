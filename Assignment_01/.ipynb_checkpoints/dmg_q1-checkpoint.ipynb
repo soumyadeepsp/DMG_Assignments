{
 "cells": [
  {
   "cell_type": "code",
   "execution_count": 2,
   "metadata": {},
   "outputs": [],
   "source": [
    "import numpy as np \n",
    "import pandas as pd \n",
    "import matplotlib.pyplot as plt\n",
    "import json\n",
    "from datetime import date"
   ]
  },
  {
   "cell_type": "code",
   "execution_count": 1,
   "metadata": {},
   "outputs": [],
   "source": [
    "start_date = \"2020-03-14\" #take input\n",
    "end_date = \"2020-09-16\" #take input\n",
    "json_file_path = \"data.json\" #take input"
   ]
  },
  {
   "cell_type": "code",
   "execution_count": 4,
   "metadata": {},
   "outputs": [],
   "source": [
    "def months(m):\n",
    "    if (m=='Jan'):\n",
    "        return 1\n",
    "    if (m=='Feb'):\n",
    "        return 2\n",
    "    if (m=='Mar'):\n",
    "        return 3\n",
    "    if (m=='Apr'):\n",
    "        return 4\n",
    "    if (m=='May'):\n",
    "        return 5\n",
    "    if (m=='Jun'):\n",
    "        return 6\n",
    "    if (m=='Jul'):\n",
    "        return 7\n",
    "    if (m=='Aug'):\n",
    "        return 8\n",
    "    if (m=='Sep'):\n",
    "        return 9\n",
    "    if (m=='Oct'):\n",
    "        return 10\n",
    "    if (m=='Nov'):\n",
    "        return 11\n",
    "    if (m=='Dec'):\n",
    "        return 12"
   ]
  },
  {
   "cell_type": "code",
   "execution_count": 44,
   "metadata": {},
   "outputs": [],
   "source": [
    "def Q1_1(json_file_path, start_date, end_date):\n",
    "    f = open(json_file_path,) \n",
    "    data = json.load(f)\n",
    "    data = data['states_daily']\n",
    "    confirmed_count = 0\n",
    "    recovered_count = 0\n",
    "    deceased_count = 0\n",
    "    for i in data:\n",
    "        if (i['status']=='Confirmed'):\n",
    "            d = i['date']\n",
    "            sd = date(int(start_date[0:4]), int(start_date[5:7]), int(start_date[8:10])) #start_date\n",
    "            ed = date(int(end_date[0:4]), int(end_date[5:7]), int(end_date[8:10])) #end_Date\n",
    "            cd = date(int('20'+d[7:9]), int(months(d[3:6])), int(d[0:2])) #current_date\n",
    "            if ((cd-sd).days>=0 and (cd-ed).days<=0):\n",
    "                for j in i:\n",
    "                    if (j!='status' and j!='date'):\n",
    "                        confirmed_count = confirmed_count + int(i[j])\n",
    "        if (i['status']=='Recovered'):\n",
    "            d = i['date']\n",
    "            sd = date(int(start_date[0:4]), int(start_date[5:7]), int(start_date[8:10])) #start_date\n",
    "            ed = date(int(end_date[0:4]), int(end_date[5:7]), int(end_date[8:10])) #end_Date\n",
    "            cd = date(int('20'+d[7:9]), int(months(d[3:6])), int(d[0:2])) #current_date\n",
    "            if ((cd-sd).days>=0 and (cd-ed).days<=0):\n",
    "                for j in i:\n",
    "                    if (j!='status' and j!='date'):\n",
    "                        recovered_count = recovered_count + int(i[j])\n",
    "        if (i['status']=='Deceased'):\n",
    "            d = i['date']\n",
    "            sd = date(int(start_date[0:4]), int(start_date[5:7]), int(start_date[8:10])) #start_date\n",
    "            ed = date(int(end_date[0:4]), int(end_date[5:7]), int(end_date[8:10])) #end_Date\n",
    "            cd = date(int('20'+d[7:9]), int(months(d[3:6])), int(d[0:2])) #current_date\n",
    "            if ((cd-sd).days>=0 and (cd-ed).days<=0):\n",
    "                for j in i:\n",
    "                    if (j!='status' and j!='date'):\n",
    "                        deceased_count = deceased_count + int(i[j])\n",
    "    print('confirmed_count: ',confirmed_count, 'recovered_count: ',recovered_count, 'deceased_count: ',deceased_count)\n",
    "    return confirmed_count, recovered_count, deceased_count"
   ]
  },
  {
   "cell_type": "code",
   "execution_count": 45,
   "metadata": {},
   "outputs": [
    {
     "name": "stdout",
     "output_type": "stream",
     "text": [
      "confirmed_count:  8220425 recovered_count:  6355332 deceased_count:  140189\n"
     ]
    },
    {
     "data": {
      "text/plain": [
       "(8220425, 6355332, 140189)"
      ]
     },
     "execution_count": 45,
     "metadata": {},
     "output_type": "execute_result"
    }
   ],
   "source": [
    "Q1_1(\"data.json\", start_date, end_date)"
   ]
  },
  {
   "cell_type": "code",
   "execution_count": 46,
   "metadata": {},
   "outputs": [],
   "source": [
    "def Q1_2(json_file_path, start_date, end_date):\n",
    "    f = open(json_file_path,) \n",
    "    data = json.load(f)\n",
    "    data = data['states_daily']\n",
    "    confirmed_count = 0\n",
    "    recovered_count = 0\n",
    "    deceased_count = 0\n",
    "    for i in data:\n",
    "        if (i['status']=='Confirmed'):\n",
    "            d = i['date']\n",
    "            sd = date(int(start_date[0:4]), int(start_date[5:7]), int(start_date[8:10])) #start_date\n",
    "            ed = date(int(end_date[0:4]), int(end_date[5:7]), int(end_date[8:10])) #end_Date\n",
    "            cd = date(int('20'+d[7:9]), int(months(d[3:6])), int(d[0:2])) #current_date\n",
    "            if ((cd-sd).days>=0 and (cd-ed).days<=0):\n",
    "                confirmed_count = confirmed_count + int(i['dl'])\n",
    "        if (i['status']=='Recovered'):\n",
    "            d = i['date']\n",
    "            sd = date(int(start_date[0:4]), int(start_date[5:7]), int(start_date[8:10])) #start_date\n",
    "            ed = date(int(end_date[0:4]), int(end_date[5:7]), int(end_date[8:10])) #end_Date\n",
    "            cd = date(int('20'+d[7:9]), int(months(d[3:6])), int(d[0:2])) #current_date\n",
    "            if ((cd-sd).days>=0 and (cd-ed).days<=0):\n",
    "                recovered_count = recovered_count + int(i['dl'])\n",
    "        if (i['status']=='Deceased'):\n",
    "            d = i['date']\n",
    "            sd = date(int(start_date[0:4]), int(start_date[5:7]), int(start_date[8:10])) #start_date\n",
    "            ed = date(int(end_date[0:4]), int(end_date[5:7]), int(end_date[8:10])) #end_Date\n",
    "            cd = date(int('20'+d[7:9]), int(months(d[3:6])), int(d[0:2])) #current_date\n",
    "            if ((cd-sd).days>=0 and (cd-ed).days<=0):\n",
    "                deceased_count = deceased_count + int(i['dl'])\n",
    "    print('confirmed_count: ',confirmed_count, 'recovered_count: ',recovered_count, 'deceased_count: ',deceased_count)\n",
    "    return confirmed_count, recovered_count, deceased_count"
   ]
  },
  {
   "cell_type": "code",
   "execution_count": 47,
   "metadata": {},
   "outputs": [
    {
     "name": "stdout",
     "output_type": "stream",
     "text": [
      "confirmed_count:  188193 recovered_count:  163785 deceased_count:  4538\n"
     ]
    },
    {
     "data": {
      "text/plain": [
       "(188193, 163785, 4538)"
      ]
     },
     "execution_count": 47,
     "metadata": {},
     "output_type": "execute_result"
    }
   ],
   "source": [
    "Q1_2(\"data.json\", start_date, end_date)"
   ]
  },
  {
   "cell_type": "code",
   "execution_count": 48,
   "metadata": {},
   "outputs": [],
   "source": [
    "def Q1_3(json_file_path, start_date, end_date):\n",
    "    f = open(json_file_path,) \n",
    "    data = json.load(f)\n",
    "    data = data['states_daily']\n",
    "    confirmed_count = 0\n",
    "    recovered_count = 0\n",
    "    deceased_count = 0\n",
    "    for i in data:\n",
    "        if (i['status']=='Confirmed'):\n",
    "            d = i['date']\n",
    "            sd = date(int(start_date[0:4]), int(start_date[5:7]), int(start_date[8:10])) #start_date\n",
    "            ed = date(int(end_date[0:4]), int(end_date[5:7]), int(end_date[8:10])) #end_Date\n",
    "            cd = date(int('20'+d[7:9]), int(months(d[3:6])), int(d[0:2])) #current_date\n",
    "            if ((cd-sd).days>=0 and (cd-ed).days<=0):\n",
    "                confirmed_count = confirmed_count + int(i['dl']) + int(i['mh'])\n",
    "        if (i['status']=='Recovered'):\n",
    "            d = i['date']\n",
    "            sd = date(int(start_date[0:4]), int(start_date[5:7]), int(start_date[8:10])) #start_date\n",
    "            ed = date(int(end_date[0:4]), int(end_date[5:7]), int(end_date[8:10])) #end_Date\n",
    "            cd = date(int('20'+d[7:9]), int(months(d[3:6])), int(d[0:2])) #current_date\n",
    "            if ((cd-sd).days>=0 and (cd-ed).days<=0):\n",
    "                recovered_count = recovered_count + int(i['dl']) + int(i['mh'])\n",
    "        if (i['status']=='Deceased'):\n",
    "            d = i['date']\n",
    "            sd = date(int(start_date[0:4]), int(start_date[5:7]), int(start_date[8:10])) #start_date\n",
    "            ed = date(int(end_date[0:4]), int(end_date[5:7]), int(end_date[8:10])) #end_Date\n",
    "            cd = date(int('20'+d[7:9]), int(months(d[3:6])), int(d[0:2])) #current_date\n",
    "            if ((cd-sd).days>=0 and (cd-ed).days<=0):\n",
    "                deceased_count = deceased_count + int(i['dl']) + int(i['mh'])\n",
    "    print('confirmed_count: ',confirmed_count, 'recovered_count: ',recovered_count, 'deceased_count: ',deceased_count)\n",
    "    return confirmed_count, recovered_count, deceased_count"
   ]
  },
  {
   "cell_type": "code",
   "execution_count": 49,
   "metadata": {},
   "outputs": [
    {
     "name": "stdout",
     "output_type": "stream",
     "text": [
      "confirmed_count:  1072055 recovered_count:  800359 deceased_count:  30813\n"
     ]
    },
    {
     "data": {
      "text/plain": [
       "(1072055, 800359, 30813)"
      ]
     },
     "execution_count": 49,
     "metadata": {},
     "output_type": "execute_result"
    }
   ],
   "source": [
    "Q1_3(\"data.json\", start_date, end_date)"
   ]
  },
  {
   "cell_type": "code",
   "execution_count": 55,
   "metadata": {},
   "outputs": [],
   "source": [
    "def Q1_4(json_file_path, start_date, end_date):\n",
    "    f = open(json_file_path,) \n",
    "    data = json.load(f)\n",
    "    data = data['states_daily']\n",
    "    confirmed_count = {'an': 0, 'ap': 0, 'ar': 0, 'as': 0, 'br': 0, 'ch': 0, 'ct': 0, 'dd': 0, 'dn': 0, 'dl': 0, 'ga': 0, 'gj': 0, 'hp': 0, 'hr': 0, 'jh': 0, 'jk': 0, 'ka': 0, 'kl': 0, 'la': 0, 'ld': 0, 'mh': 0, 'ml': 0, 'mn': 0, 'mp': 0, 'mz': 0, 'nl': 0, 'or': 0, 'pb': 0, 'py': 0, 'rj': 0, 'sk': 0, 'tg': 0, 'tn': 0, 'tr': 0, 'tt': 0, 'un': 0, 'up': 0, 'ut': 0, 'wb': 0}\n",
    "    recovered_count = {'an': 0, 'ap': 0, 'ar': 0, 'as': 0, 'br': 0, 'ch': 0, 'ct': 0, 'dd': 0, 'dn': 0, 'dl': 0, 'ga': 0, 'gj': 0, 'hp': 0, 'hr': 0, 'jh': 0, 'jk': 0, 'ka': 0, 'kl': 0, 'la': 0, 'ld': 0, 'mh': 0, 'ml': 0, 'mn': 0, 'mp': 0, 'mz': 0, 'nl': 0, 'or': 0, 'pb': 0, 'py': 0, 'rj': 0, 'sk': 0, 'tg': 0, 'tn': 0, 'tr': 0, 'tt': 0, 'un': 0, 'up': 0, 'ut': 0, 'wb': 0}\n",
    "    deceased_count = {'an': 0, 'ap': 0, 'ar': 0, 'as': 0, 'br': 0, 'ch': 0, 'ct': 0, 'dd': 0, 'dn': 0, 'dl': 0, 'ga': 0, 'gj': 0, 'hp': 0, 'hr': 0, 'jh': 0, 'jk': 0, 'ka': 0, 'kl': 0, 'la': 0, 'ld': 0, 'mh': 0, 'ml': 0, 'mn': 0, 'mp': 0, 'mz': 0, 'nl': 0, 'or': 0, 'pb': 0, 'py': 0, 'rj': 0, 'sk': 0, 'tg': 0, 'tn': 0, 'tr': 0, 'tt': 0, 'un': 0, 'up': 0, 'ut': 0, 'wb': 0}\n",
    "    for i in data:\n",
    "        if (i['status']=='Confirmed'):\n",
    "            d = i['date']\n",
    "            sd = date(int(start_date[0:4]), int(start_date[5:7]), int(start_date[8:10])) #start_date\n",
    "            ed = date(int(end_date[0:4]), int(end_date[5:7]), int(end_date[8:10])) #end_Date\n",
    "            cd = date(int('20'+d[7:9]), int(months(d[3:6])), int(d[0:2])) #current_date\n",
    "            if ((cd-sd).days>=0 and (cd-ed).days<=0):\n",
    "                for j in i:\n",
    "                    if (j!='status' and j!='date'):\n",
    "                        confirmed_count[j] = confirmed_count[j] + int(i[j])\n",
    "        if (i['status']=='Recovered'):\n",
    "            d = i['date']\n",
    "            sd = date(int(start_date[0:4]), int(start_date[5:7]), int(start_date[8:10])) #start_date\n",
    "            ed = date(int(end_date[0:4]), int(end_date[5:7]), int(end_date[8:10])) #end_Date\n",
    "            cd = date(int('20'+d[7:9]), int(months(d[3:6])), int(d[0:2])) #current_date\n",
    "            if ((cd-sd).days>=0 and (cd-ed).days<=0):\n",
    "                for j in i:\n",
    "                    if (j!='status' and j!='date'):\n",
    "                        recovered_count[j] = recovered_count[j] + int(i[j])\n",
    "        if (i['status']=='Deceased'):\n",
    "            d = i['date']\n",
    "            sd = date(int(start_date[0:4]), int(start_date[5:7]), int(start_date[8:10])) #start_date\n",
    "            ed = date(int(end_date[0:4]), int(end_date[5:7]), int(end_date[8:10])) #end_Date\n",
    "            cd = date(int('20'+d[7:9]), int(months(d[3:6])), int(d[0:2])) #current_date\n",
    "            if ((cd-sd).days>=0 and (cd-ed).days<=0):\n",
    "                for j in i:\n",
    "                    if (j!='status' and j!='date'):\n",
    "                        deceased_count[j] = deceased_count[j] + int(i[j])\n",
    "    print (confirmed_count)\n",
    "    print (recovered_count)\n",
    "    print (deceased_count)\n",
    "    confirmed_count = max(confirmed_count, key=confirmed_count.get)\n",
    "    recovered_count = max(recovered_count, key=recovered_count.get)\n",
    "    deceased_count = max(deceased_count, key=deceased_count.get)\n",
    "    print('confirmed_count: ',confirmed_count, 'recovered_count: ',recovered_count, 'deceased_count: ',deceased_count)\n",
    "    return confirmed_count, recovered_count, deceased_count"
   ]
  },
  {
   "cell_type": "code",
   "execution_count": 56,
   "metadata": {},
   "outputs": [
    {
     "name": "stdout",
     "output_type": "stream",
     "text": [
      "{'an': 3288, 'ap': 487331, 'ar': 4914, 'as': 123821, 'br': 145861, 'ch': 5502, 'ct': 43163, 'dd': 0, 'dn': 2533, 'dl': 188193, 'ga': 20455, 'gj': 103006, 'hp': 7018, 'hr': 74272, 'jh': 49772, 'jk': 42241, 'ka': 389232, 'kl': 84759, 'la': 2996, 'ld': 0, 'mh': 883862, 'ml': 2916, 'mn': 6883, 'mp': 71880, 'mz': 1062, 'nl': 4128, 'or': 120221, 'pb': 61527, 'py': 16568, 'rj': 89363, 'sk': 1914, 'tg': 137885, 'tn': 457697, 'tr': 14524, 'tt': 4110211, 'un': 0, 'up': 259765, 'ut': 23961, 'wb': 177701}\n",
      "{'an': 2895, 'ap': 382104, 'ar': 3381, 'as': 95061, 'br': 128376, 'ch': 3290, 'ct': 20487, 'dd': 0, 'dn': 2230, 'dl': 163785, 'ga': 15281, 'gj': 83647, 'hp': 4942, 'hr': 58579, 'jh': 34330, 'jk': 31924, 'ka': 283299, 'kl': 62554, 'la': 2127, 'ld': 0, 'mh': 636574, 'ml': 1527, 'mn': 4975, 'mp': 54649, 'mz': 713, 'nl': 3419, 'or': 93774, 'pb': 43849, 'py': 11107, 'rj': 73245, 'sk': 1348, 'tg': 104603, 'tn': 398366, 'tr': 8483, 'tt': 3177666, 'un': 0, 'up': 195959, 'ut': 15982, 'wb': 150801}\n",
      "{'an': 50, 'ap': 4347, 'ar': 8, 'as': 356, 'br': 750, 'ch': 69, 'ct': 356, 'dd': 0, 'dn': 2, 'dl': 4538, 'ga': 229, 'gj': 3093, 'hp': 53, 'hr': 781, 'jh': 462, 'jk': 770, 'ka': 5709, 'kl': 338, 'la': 35, 'ld': 0, 'mh': 26275, 'ml': 15, 'mn': 36, 'mp': 1544, 'mz': 0, 'nl': 8, 'or': 591, 'pb': 1808, 'py': 298, 'rj': 1122, 'sk': 5, 'tg': 877, 'tn': 7751, 'tr': 136, 'tt': 70094, 'un': 0, 'up': 3843, 'ut': 330, 'wb': 3510}\n",
      "confirmed_count:  tt recovered_count:  tt deceased_count:  tt\n"
     ]
    },
    {
     "data": {
      "text/plain": [
       "('tt', 'tt', 'tt')"
      ]
     },
     "execution_count": 56,
     "metadata": {},
     "output_type": "execute_result"
    }
   ],
   "source": [
    "Q1_4(\"data.json\", start_date, end_date)"
   ]
  },
  {
   "cell_type": "code",
   "execution_count": 59,
   "metadata": {},
   "outputs": [],
   "source": [
    "def Q1_5(json_file_path, start_date, end_date):\n",
    "    f = open(json_file_path,) \n",
    "    data = json.load(f)\n",
    "    data = data['states_daily']\n",
    "    confirmed_count = {'an': 0, 'ap': 0, 'ar': 0, 'as': 0, 'br': 0, 'ch': 0, 'ct': 0, 'dd': 0, 'dn': 0, 'dl': 0, 'ga': 0, 'gj': 0, 'hp': 0, 'hr': 0, 'jh': 0, 'jk': 0, 'ka': 0, 'kl': 0, 'la': 0, 'ld': 0, 'mh': 0, 'ml': 0, 'mn': 0, 'mp': 0, 'mz': 0, 'nl': 0, 'or': 0, 'pb': 0, 'py': 0, 'rj': 0, 'sk': 0, 'tg': 0, 'tn': 0, 'tr': 0, 'tt': 0, 'un': 0, 'up': 0, 'ut': 0, 'wb': 0}\n",
    "    recovered_count = {'an': 0, 'ap': 0, 'ar': 0, 'as': 0, 'br': 0, 'ch': 0, 'ct': 0, 'dd': 0, 'dn': 0, 'dl': 0, 'ga': 0, 'gj': 0, 'hp': 0, 'hr': 0, 'jh': 0, 'jk': 0, 'ka': 0, 'kl': 0, 'la': 0, 'ld': 0, 'mh': 0, 'ml': 0, 'mn': 0, 'mp': 0, 'mz': 0, 'nl': 0, 'or': 0, 'pb': 0, 'py': 0, 'rj': 0, 'sk': 0, 'tg': 0, 'tn': 0, 'tr': 0, 'tt': 0, 'un': 0, 'up': 0, 'ut': 0, 'wb': 0}\n",
    "    deceased_count = {'an': 0, 'ap': 0, 'ar': 0, 'as': 0, 'br': 0, 'ch': 0, 'ct': 0, 'dd': 0, 'dn': 0, 'dl': 0, 'ga': 0, 'gj': 0, 'hp': 0, 'hr': 0, 'jh': 0, 'jk': 0, 'ka': 0, 'kl': 0, 'la': 0, 'ld': 0, 'mh': 0, 'ml': 0, 'mn': 0, 'mp': 0, 'mz': 0, 'nl': 0, 'or': 0, 'pb': 0, 'py': 0, 'rj': 0, 'sk': 0, 'tg': 0, 'tn': 0, 'tr': 0, 'tt': 0, 'un': 0, 'up': 0, 'ut': 0, 'wb': 0}\n",
    "    for i in data:\n",
    "        if (i['status']=='Confirmed'):\n",
    "            d = i['date']\n",
    "            sd = date(int(start_date[0:4]), int(start_date[5:7]), int(start_date[8:10])) #start_date\n",
    "            ed = date(int(end_date[0:4]), int(end_date[5:7]), int(end_date[8:10])) #end_Date\n",
    "            cd = date(int('20'+d[7:9]), int(months(d[3:6])), int(d[0:2])) #current_date\n",
    "            if ((cd-sd).days>=0 and (cd-ed).days<=0):\n",
    "                for j in i:\n",
    "                    if (j!='status' and j!='date'):\n",
    "                        confirmed_count[j] = confirmed_count[j] + int(i[j])\n",
    "        if (i['status']=='Recovered'):\n",
    "            d = i['date']\n",
    "            sd = date(int(start_date[0:4]), int(start_date[5:7]), int(start_date[8:10])) #start_date\n",
    "            ed = date(int(end_date[0:4]), int(end_date[5:7]), int(end_date[8:10])) #end_Date\n",
    "            cd = date(int('20'+d[7:9]), int(months(d[3:6])), int(d[0:2])) #current_date\n",
    "            if ((cd-sd).days>=0 and (cd-ed).days<=0):\n",
    "                for j in i:\n",
    "                    if (j!='status' and j!='date'):\n",
    "                        recovered_count[j] = recovered_count[j] + int(i[j])\n",
    "        if (i['status']=='Deceased'):\n",
    "            d = i['date']\n",
    "            sd = date(int(start_date[0:4]), int(start_date[5:7]), int(start_date[8:10])) #start_date\n",
    "            ed = date(int(end_date[0:4]), int(end_date[5:7]), int(end_date[8:10])) #end_Date\n",
    "            cd = date(int('20'+d[7:9]), int(months(d[3:6])), int(d[0:2])) #current_date\n",
    "            if ((cd-sd).days>=0 and (cd-ed).days<=0):\n",
    "                for j in i:\n",
    "                    if (j!='status' and j!='date'):\n",
    "                        deceased_count[j] = deceased_count[j] + int(i[j])\n",
    "    print (confirmed_count)\n",
    "    print (recovered_count)\n",
    "    print (deceased_count)\n",
    "    confirmed_count = min(confirmed_count, key=confirmed_count.get)\n",
    "    recovered_count = min(recovered_count, key=recovered_count.get)\n",
    "    deceased_count = min(deceased_count, key=deceased_count.get)\n",
    "    print('confirmed_count: ',confirmed_count, 'recovered_count: ',recovered_count, 'deceased_count: ',deceased_count)\n",
    "    return confirmed_count, recovered_count, deceased_count"
   ]
  },
  {
   "cell_type": "code",
   "execution_count": 60,
   "metadata": {},
   "outputs": [
    {
     "name": "stdout",
     "output_type": "stream",
     "text": [
      "{'an': 3288, 'ap': 487331, 'ar': 4914, 'as': 123821, 'br': 145861, 'ch': 5502, 'ct': 43163, 'dd': 0, 'dn': 2533, 'dl': 188193, 'ga': 20455, 'gj': 103006, 'hp': 7018, 'hr': 74272, 'jh': 49772, 'jk': 42241, 'ka': 389232, 'kl': 84759, 'la': 2996, 'ld': 0, 'mh': 883862, 'ml': 2916, 'mn': 6883, 'mp': 71880, 'mz': 1062, 'nl': 4128, 'or': 120221, 'pb': 61527, 'py': 16568, 'rj': 89363, 'sk': 1914, 'tg': 137885, 'tn': 457697, 'tr': 14524, 'tt': 4110211, 'un': 0, 'up': 259765, 'ut': 23961, 'wb': 177701}\n",
      "{'an': 2895, 'ap': 382104, 'ar': 3381, 'as': 95061, 'br': 128376, 'ch': 3290, 'ct': 20487, 'dd': 0, 'dn': 2230, 'dl': 163785, 'ga': 15281, 'gj': 83647, 'hp': 4942, 'hr': 58579, 'jh': 34330, 'jk': 31924, 'ka': 283299, 'kl': 62554, 'la': 2127, 'ld': 0, 'mh': 636574, 'ml': 1527, 'mn': 4975, 'mp': 54649, 'mz': 713, 'nl': 3419, 'or': 93774, 'pb': 43849, 'py': 11107, 'rj': 73245, 'sk': 1348, 'tg': 104603, 'tn': 398366, 'tr': 8483, 'tt': 3177666, 'un': 0, 'up': 195959, 'ut': 15982, 'wb': 150801}\n",
      "{'an': 50, 'ap': 4347, 'ar': 8, 'as': 356, 'br': 750, 'ch': 69, 'ct': 356, 'dd': 0, 'dn': 2, 'dl': 4538, 'ga': 229, 'gj': 3093, 'hp': 53, 'hr': 781, 'jh': 462, 'jk': 770, 'ka': 5709, 'kl': 338, 'la': 35, 'ld': 0, 'mh': 26275, 'ml': 15, 'mn': 36, 'mp': 1544, 'mz': 0, 'nl': 8, 'or': 591, 'pb': 1808, 'py': 298, 'rj': 1122, 'sk': 5, 'tg': 877, 'tn': 7751, 'tr': 136, 'tt': 70094, 'un': 0, 'up': 3843, 'ut': 330, 'wb': 3510}\n",
      "confirmed_count:  dd recovered_count:  dd deceased_count:  dd\n"
     ]
    },
    {
     "data": {
      "text/plain": [
       "('dd', 'dd', 'dd')"
      ]
     },
     "execution_count": 60,
     "metadata": {},
     "output_type": "execute_result"
    }
   ],
   "source": [
    "Q1_5(\"data.json\", start_date, end_date)"
   ]
  },
  {
   "cell_type": "code",
   "execution_count": 75,
   "metadata": {},
   "outputs": [],
   "source": [
    "def Q1_6(json_file_path, start_date, end_date):\n",
    "    f = open(json_file_path,) \n",
    "    data = json.load(f)\n",
    "    data = data['states_daily']\n",
    "    confirmed_count_spike = 0\n",
    "    recovered_count_spike = 0\n",
    "    deceased_count_spike = 0\n",
    "    for i in range(len(data)):\n",
    "        if (data[i]['status']=='Confirmed'):\n",
    "            d = data[i]['date']\n",
    "            sd = date(int(start_date[0:4]), int(start_date[5:7]), int(start_date[8:10])) #start_date\n",
    "            ed = date(int(end_date[0:4]), int(end_date[5:7]), int(end_date[8:10])) #end_Date\n",
    "            cd = date(int('20'+d[7:9]), int(months(d[3:6])), int(d[0:2])) #current_date\n",
    "            if ((cd-sd).days>=0 and (cd-ed).days<=0):\n",
    "                if (i>=2):\n",
    "                    temp_spike = int(data[i]['dl']) - int(data[i-3]['dl'])\n",
    "                    if (temp_spike > confirmed_count_spike):\n",
    "                        confirmed_count_spike = temp_spike\n",
    "                        confirmed_count_spike_day = data[i]['date']\n",
    "        if (data[i]['status']=='Recovered'):\n",
    "            d = data[i]['date']\n",
    "            sd = date(int(start_date[0:4]), int(start_date[5:7]), int(start_date[8:10])) #start_date\n",
    "            ed = date(int(end_date[0:4]), int(end_date[5:7]), int(end_date[8:10])) #end_Date\n",
    "            cd = date(int('20'+d[7:9]), int(months(d[3:6])), int(d[0:2])) #current_date\n",
    "            if ((cd-sd).days>=0 and (cd-ed).days<=0):\n",
    "                if (i>=2):\n",
    "                    temp_spike = int(data[i]['dl']) - int(data[i-3]['dl'])\n",
    "                    if (temp_spike > recovered_count_spike):\n",
    "                        recovered_count_spike = temp_spike\n",
    "                        recovered_count_spike_day = data[i]['date']\n",
    "        if (data[i]['status']=='Deceased'):\n",
    "            d = data[i]['date']\n",
    "            sd = date(int(start_date[0:4]), int(start_date[5:7]), int(start_date[8:10])) #start_date\n",
    "            ed = date(int(end_date[0:4]), int(end_date[5:7]), int(end_date[8:10])) #end_Date\n",
    "            cd = date(int('20'+d[7:9]), int(months(d[3:6])), int(d[0:2])) #current_date\n",
    "            if ((cd-sd).days>=0 and (cd-ed).days<=0):\n",
    "                if (i>=2):\n",
    "                    temp_spike = int(data[i]['dl']) - int(data[i-3]['dl'])\n",
    "                    if (temp_spike > deceased_count_spike):\n",
    "                        deceased_count_spike = temp_spike\n",
    "                        deceased_count_spike_day = data[i]['date']\n",
    "    print('Confirmed')\n",
    "    print('Day: ',confirmed_count_spike_day)\n",
    "    print('Count: ',confirmed_count_spike)\n",
    "    print('\\nRecovered')\n",
    "    print('Day: ',recovered_count_spike_day)\n",
    "    print('Count: ',recovered_count_spike)\n",
    "    print('\\nDeceased')\n",
    "    print('Day: ',deceased_count_spike_day)\n",
    "    print('Count: ',deceased_count_spike)"
   ]
  },
  {
   "cell_type": "code",
   "execution_count": 76,
   "metadata": {},
   "outputs": [
    {
     "name": "stdout",
     "output_type": "stream",
     "text": [
      "Confirmed\n",
      "Day:  23-Jun-20\n",
      "Count:  1038\n",
      "\n",
      "Recovered\n",
      "Day:  20-Jun-20\n",
      "Count:  5497\n",
      "\n",
      "Deceased\n",
      "Day:  16-Jun-20\n",
      "Count:  364\n"
     ]
    }
   ],
   "source": [
    "Q1_6(\"data.json\", start_date, end_date)"
   ]
  },
  {
   "cell_type": "code",
   "execution_count": 80,
   "metadata": {},
   "outputs": [],
   "source": [
    "def Q1_7(json_file_path, start_date, end_date):\n",
    "    f = open(json_file_path,) \n",
    "    data = json.load(f)\n",
    "    data = data['states_daily']\n",
    "    confirmed_count_spike = 0\n",
    "    recovered_count_spike = 0\n",
    "    deceased_count_spike = 0\n",
    "    active = {'an': 0, 'ap': 0, 'ar': 0, 'as': 0, 'br': 0, 'ch': 0, 'ct': 0, 'dd': 0, 'dn': 0, 'dl': 0, 'ga': 0, 'gj': 0, 'hp': 0, 'hr': 0, 'jh': 0, 'jk': 0, 'ka': 0, 'kl': 0, 'la': 0, 'ld': 0, 'mh': 0, 'ml': 0, 'mn': 0, 'mp': 0, 'mz': 0, 'nl': 0, 'or': 0, 'pb': 0, 'py': 0, 'rj': 0, 'sk': 0, 'tg': 0, 'tn': 0, 'tr': 0, 'tt': 0, 'un': 0, 'up': 0, 'ut': 0, 'wb': 0}\n",
    "    for i in data:\n",
    "        if (i['status']=='Confirmed'):\n",
    "            d = i['date']\n",
    "            sd = date(int(start_date[0:4]), int(start_date[5:7]), int(start_date[8:10])) #start_date\n",
    "            ed = date(int(end_date[0:4]), int(end_date[5:7]), int(end_date[8:10])) #end_Date\n",
    "            cd = date(int('20'+d[7:9]), int(months(d[3:6])), int(d[0:2])) #current_date\n",
    "            if ((cd-sd).days>=0 and (cd-ed).days<=0):\n",
    "                for j in i:\n",
    "                    if (j!='status' and j!='date'):\n",
    "                        active[j] = active[j] + int(i[j])\n",
    "        if (i['status']=='Recovered'):\n",
    "            d = i['date']\n",
    "            sd = date(int(start_date[0:4]), int(start_date[5:7]), int(start_date[8:10])) #start_date\n",
    "            ed = date(int(end_date[0:4]), int(end_date[5:7]), int(end_date[8:10])) #end_Date\n",
    "            cd = date(int('20'+d[7:9]), int(months(d[3:6])), int(d[0:2])) #current_date\n",
    "            if ((cd-sd).days>=0 and (cd-ed).days<=0):\n",
    "                for j in i:\n",
    "                    if (j!='status' and j!='date'):\n",
    "                        active[j] = active[j] - int(i[j])\n",
    "        if (i['status']=='Deceased'):\n",
    "            d = i['date']\n",
    "            sd = date(int(start_date[0:4]), int(start_date[5:7]), int(start_date[8:10])) #start_date\n",
    "            ed = date(int(end_date[0:4]), int(end_date[5:7]), int(end_date[8:10])) #end_Date\n",
    "            cd = date(int('20'+d[7:9]), int(months(d[3:6])), int(d[0:2])) #current_date\n",
    "            if ((cd-sd).days>=0 and (cd-ed).days<=0):\n",
    "                for j in i:\n",
    "                    if (j!='status' and j!='date'):\n",
    "                        active[j] = active[j] - int(i[j])\n",
    "    print (active)"
   ]
  },
  {
   "cell_type": "code",
   "execution_count": 81,
   "metadata": {},
   "outputs": [
    {
     "name": "stdout",
     "output_type": "stream",
     "text": [
      "{'an': 343, 'ap': 100880, 'ar': 1525, 'as': 28404, 'br': 16735, 'ch': 2143, 'ct': 22320, 'dd': 0, 'dn': 301, 'dl': 19870, 'ga': 4945, 'gj': 16266, 'hp': 2023, 'hr': 14912, 'jh': 14980, 'jk': 9547, 'ka': 100224, 'kl': 21867, 'la': 834, 'ld': 0, 'mh': 221013, 'ml': 1374, 'mn': 1872, 'mp': 15687, 'mz': 349, 'nl': 701, 'or': 25856, 'pb': 15870, 'py': 5163, 'rj': 14996, 'sk': 561, 'tg': 32405, 'tn': 51580, 'tr': 5905, 'tt': 862451, 'un': 0, 'up': 59963, 'ut': 7649, 'wb': 23390}\n"
     ]
    }
   ],
   "source": [
    "Q1_7(\"data.json\", start_date, end_date)"
   ]
  },
  {
   "cell_type": "code",
   "execution_count": null,
   "metadata": {},
   "outputs": [],
   "source": []
  }
 ],
 "metadata": {
  "kernelspec": {
   "display_name": "Python 3",
   "language": "python",
   "name": "python3"
  },
  "language_info": {
   "codemirror_mode": {
    "name": "ipython",
    "version": 3
   },
   "file_extension": ".py",
   "mimetype": "text/x-python",
   "name": "python",
   "nbconvert_exporter": "python",
   "pygments_lexer": "ipython3",
   "version": "3.7.4"
  }
 },
 "nbformat": 4,
 "nbformat_minor": 2
}
